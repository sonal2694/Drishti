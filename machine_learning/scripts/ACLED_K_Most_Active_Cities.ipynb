{
 "cells": [
  {
   "cell_type": "code",
   "execution_count": 9,
   "metadata": {
    "collapsed": true
   },
   "outputs": [],
   "source": [
    "import pandas as pd"
   ]
  },
  {
   "cell_type": "code",
   "execution_count": null,
   "metadata": {},
   "outputs": [],
   "source": [
    "RAW_NEWS_DIR = \"./data/raw_news/\""
   ]
  },
  {
   "cell_type": "code",
   "execution_count": 10,
   "metadata": {},
   "outputs": [],
   "source": [
    "data = pd.read_csv(\"../data/2019-02-01-2019-03-14-India.csv\")\n",
    "data.info()"
   ]
  },
  {
   "cell_type": "code",
   "execution_count": 71,
   "metadata": {},
   "outputs": [],
   "source": []
  },
  {
   "cell_type": "code",
   "execution_count": 46,
   "metadata": {},
   "outputs": [],
   "source": [
    "# read all locations from the dataset\n",
    "\n",
    "locations = []\n",
    "for index, row in data.iterrows():\n",
    "    locations.append((row['location'], row['latitude'], row['longitude']))\n",
    "\n",
    "from collections import Counter\n",
    "\n",
    "# Counter counts the frequency of all unique tuples\n",
    "locations_ct = Counter(locations)\n",
    "\n",
    "all_location_csv_data = '\\n'.join([\"{}, {}, {}, {}\".format(i[0][0], i[0][1], i[0][2], i[1]) for i in locations_ct.items()])\n",
    "\n",
    "# all cities and counts\n",
    "with open('./data/india-locations.csv', 'w') as out:\n",
    "    out.write(all_location_csv_data)\n",
    "    \n",
    "# Top 15\n",
    "top_k_location_csv_data = '\\n'.join([\"{}, {}, {}, {}\".format(i[0][0], i[0][1], i[0][2], i[1]) for i in locations_ct.most_common(15)])\n",
    "\n",
    "with open('./data/top-15-india-locations.csv', 'w') as out:\n",
    "    out.write(top_k_location_csv_data)"
   ]
  },
  {
   "cell_type": "code",
   "execution_count": null,
   "metadata": {},
   "outputs": [],
   "source": []
  },
  {
   "cell_type": "code",
   "execution_count": null,
   "metadata": {},
   "outputs": [],
   "source": []
  },
  {
   "cell_type": "code",
   "execution_count": 71,
   "metadata": {},
   "outputs": [],
   "source": []
  },
  {
   "cell_type": "code",
   "execution_count": 71,
   "metadata": {},
   "outputs": [],
   "source": []
  },
  {
   "cell_type": "code",
   "execution_count": 31,
   "metadata": {},
   "outputs": [],
   "source": [
    "\n"
   ]
  },
  {
   "cell_type": "code",
   "execution_count": 34,
   "metadata": {},
   "outputs": [],
   "source": []
  },
  {
   "cell_type": "code",
   "execution_count": 37,
   "metadata": {},
   "outputs": [],
   "source": [
    "\n"
   ]
  },
  {
   "cell_type": "code",
   "execution_count": null,
   "metadata": {},
   "outputs": [],
   "source": []
  }
 ],
 "metadata": {
  "kernelspec": {
   "display_name": "Python 2",
   "language": "python",
   "name": "python2"
  },
  "language_info": {
   "codemirror_mode": {
    "name": "ipython",
    "version": 3
   },
   "file_extension": ".py",
   "mimetype": "text/x-python",
   "name": "python",
   "nbconvert_exporter": "python",
   "pygments_lexer": "ipython3",
   "version": "3.7.1"
  }
 },
 "nbformat": 4,
 "nbformat_minor": 1
}
