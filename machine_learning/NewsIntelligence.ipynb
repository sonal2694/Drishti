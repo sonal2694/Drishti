{
 "cells": [
  {
   "cell_type": "code",
   "execution_count": 1920,
   "metadata": {},
   "outputs": [],
   "source": [
    "import pandas as pd\n",
    "import datetime\n",
    "import os\n",
    "import csv\n",
    "import numpy as np"
   ]
  },
  {
   "cell_type": "markdown",
   "metadata": {},
   "source": [
    "# Constants"
   ]
  },
  {
   "cell_type": "code",
   "execution_count": 1921,
   "metadata": {},
   "outputs": [],
   "source": [
    "COUNTRY = 'india'\n",
    "\n",
    "PROJECT_BASE_URL = \"/Users/zeko/dev/projects/drishti/machine_learning/scripts/\"\n",
    "\n",
    "DATASET_PATH = PROJECT_BASE_URL + 'data/acled/2019-01-01-2019-05-01-India.csv'\n",
    "SRC_DIR_NEWS_TEXT_ONLY = PROJECT_BASE_URL + 'data/processed_news_india/'\n",
    "\n",
    "NEWS_START_DATE = datetime.datetime.strptime(\"2019-02-24\", \"%Y-%m-%d\").date()\n",
    "NEWS_SIGNAL_FOR_VIOLENCE_DATASET_FILE_PKL = PROJECT_BASE_URL + 'data/models/india.pkl'\n",
    "NEWS_SIGNAL_FOR_VIOLENCE_DATASET_FILE_CSV = PROJECT_BASE_URL + 'data/india.csv'\n",
    "\n",
    "LOCATIONS_OF_INTEREST = PROJECT_BASE_URL + \"data/locations/\" + \"top-15-india-locations.csv\"\n",
    "FASTTEXT_DATASET_DIR = PROJECT_BASE_URL + \"data/fasttext_datasets/\"\n",
    "\n",
    "FINAL_DATASET_DATE_LOCATION_HEADER = 'src'\n",
    "\n",
    "SENTIMENT_FILES_DIR = PROJECT_BASE_URL + 'data/sentiment_news_{}/'.format(COUNTRY)\n",
    "\n",
    "FINAL_MODEL_PATH = PROJECT_BASE_URL + 'data/models/ensemble/model_{}.pkl'.format(COUNTRY)\n",
    "FINAL_DATASET_PATH = PROJECT_BASE_URL + 'data/saved_datasets/{}.pkl'.format(COUNTRY)\n",
    "LIVE_PREDICTIONS_PATH = PROJECT_BASE_URL + 'data/saved_predictions/{}.json'.format(COUNTRY)\n",
    "\n",
    "LIVE_DATA_FLAG = True"
   ]
  },
  {
   "cell_type": "code",
   "execution_count": 1922,
   "metadata": {},
   "outputs": [],
   "source": [
    "# builds a set which stores <date__location> of violence\n",
    "violence_log = set()\n",
    "LAST_VIOLENCE_DATE = None"
   ]
  },
  {
   "cell_type": "markdown",
   "metadata": {},
   "source": [
    "# Data\n",
    "\n",
    "## ACLED"
   ]
  },
  {
   "cell_type": "code",
   "execution_count": 1923,
   "metadata": {},
   "outputs": [],
   "source": [
    "# Read ACLED data\n",
    "data = pd.read_csv(DATASET_PATH)"
   ]
  },
  {
   "cell_type": "code",
   "execution_count": 1924,
   "metadata": {},
   "outputs": [],
   "source": [
    "def build_violence_log_key(log_date, log_location):\n",
    "    return \"{}__{}\".format(log_date, log_location)"
   ]
  },
  {
   "cell_type": "markdown",
   "metadata": {},
   "source": [
    "## Populate the violence_log set"
   ]
  },
  {
   "cell_type": "code",
   "execution_count": 1925,
   "metadata": {},
   "outputs": [
    {
     "name": "stdout",
     "output_type": "stream",
     "text": [
      "Last Violence Date: 2019-04-27\n"
     ]
    }
   ],
   "source": [
    "# populates violence_log\n",
    "for index, row in data.iterrows():\n",
    "    if index == 0:\n",
    "        pass\n",
    "    else:\n",
    "        d = datetime.datetime.strptime(row['event_date'], \"%d %B %Y\")\n",
    "        event_date = d.strftime('%Y-%m-%d')\n",
    "        violence_log.add(build_violence_log_key(event_date, row['location']))\n",
    "        if LAST_VIOLENCE_DATE is None:\n",
    "            # we just need the first event date as dataset has events ordered latest first\n",
    "            LAST_VIOLENCE_DATE = d.date()\n",
    "\n",
    "print(\"Last Violence Date: {}\".format(LAST_VIOLENCE_DATE))\n",
    "            "
   ]
  },
  {
   "cell_type": "markdown",
   "metadata": {},
   "source": [
    "## Get 15 most active cities"
   ]
  },
  {
   "cell_type": "code",
   "execution_count": 1926,
   "metadata": {},
   "outputs": [],
   "source": [
    "# Get most active cities\n",
    "locations = []\n",
    "\n",
    "# read relevant locations\n",
    "with open(LOCATIONS_OF_INTEREST, 'r') as csv_file:\n",
    "    csv_reader = csv.DictReader(csv_file, fieldnames=['name', 'lat', 'long', 'freq'])\n",
    "\n",
    "    # each row is an ordered dict\n",
    "    for row in csv_reader:\n",
    "        locations.append(row)"
   ]
  },
  {
   "cell_type": "markdown",
   "metadata": {},
   "source": [
    "## Helper method to get News data for a particular date"
   ]
  },
  {
   "cell_type": "code",
   "execution_count": 1927,
   "metadata": {},
   "outputs": [],
   "source": [
    "def read_news_text_only(date, location):\n",
    "    filepath = \"{}{}__{}.txt\".format(SRC_DIR_NEWS_TEXT_ONLY, date, location)\n",
    "    if os.path.isfile(filepath):\n",
    "        with open(filepath, 'r') as text_file:\n",
    "            return text_file.read()\n",
    "    else:\n",
    "        return None"
   ]
  },
  {
   "cell_type": "markdown",
   "metadata": {},
   "source": [
    "## Helper method to create Final Dataset"
   ]
  },
  {
   "cell_type": "code",
   "execution_count": 1928,
   "metadata": {},
   "outputs": [],
   "source": [
    "# method for creating dataset for scikit learn methods\n",
    "def create_dataset(start_date, days, dataset_label, live_data=False):\n",
    "    \n",
    "    news_col = []\n",
    "    labels_col = []\n",
    "    src = []\n",
    "\n",
    "    for curr_date in (start_date + datetime.timedelta(days=i) for i in range(days)):\n",
    "        \n",
    "        violence_date = curr_date + datetime.timedelta(days=2)\n",
    "        print(\"Included news broadcasted on {} for violence on {}\".format(curr_date, violence_date))        \n",
    "        \n",
    "        for location in locations:\n",
    "            \n",
    "            # check if violence occurred\n",
    "            if build_violence_log_key(violence_date, location['name']) in violence_log:\n",
    "                label = 'VIOLENCE'\n",
    "            else:\n",
    "                label = 'NO_VIOLENCE'\n",
    "            news = read_news_text_only(curr_date, location['name'])\n",
    "            if news is not None:\n",
    "                news_col.append(news)\n",
    "                labels_col.append(label)\n",
    "                src.append(build_violence_log_key(violence_date, location['name']))\n",
    "    \n",
    "    # Add live values\n",
    "    if live_data:\n",
    "        curr_date = datetime.datetime.now().date()\n",
    "        for location in locations:\n",
    "            news = read_news_text_only(curr_date, location['name'])\n",
    "            if news is not None:\n",
    "                news_col.append(news)\n",
    "                labels_col.append('NO_VIOLENCE')\n",
    "                src.append(build_violence_log_key(curr_date, location['name']))\n",
    "        \n",
    "        \n",
    "    return {'news': news_col, 'labels': labels_col, FINAL_DATASET_DATE_LOCATION_HEADER: src}\n",
    "        "
   ]
  },
  {
   "cell_type": "markdown",
   "metadata": {},
   "source": [
    "## Create Final dataset"
   ]
  },
  {
   "cell_type": "code",
   "execution_count": 1929,
   "metadata": {},
   "outputs": [
    {
     "name": "stdout",
     "output_type": "stream",
     "text": [
      "Included news broadcasted on 2019-02-24 for violence on 2019-02-26\n",
      "Included news broadcasted on 2019-02-25 for violence on 2019-02-27\n",
      "Included news broadcasted on 2019-02-26 for violence on 2019-02-28\n",
      "Included news broadcasted on 2019-02-27 for violence on 2019-03-01\n",
      "Included news broadcasted on 2019-02-28 for violence on 2019-03-02\n",
      "Included news broadcasted on 2019-03-01 for violence on 2019-03-03\n",
      "Included news broadcasted on 2019-03-02 for violence on 2019-03-04\n",
      "Included news broadcasted on 2019-03-03 for violence on 2019-03-05\n",
      "Included news broadcasted on 2019-03-04 for violence on 2019-03-06\n",
      "Included news broadcasted on 2019-03-05 for violence on 2019-03-07\n",
      "Included news broadcasted on 2019-03-06 for violence on 2019-03-08\n",
      "Included news broadcasted on 2019-03-07 for violence on 2019-03-09\n",
      "Included news broadcasted on 2019-03-08 for violence on 2019-03-10\n",
      "Included news broadcasted on 2019-03-09 for violence on 2019-03-11\n",
      "Included news broadcasted on 2019-03-10 for violence on 2019-03-12\n",
      "Included news broadcasted on 2019-03-11 for violence on 2019-03-13\n",
      "Included news broadcasted on 2019-03-12 for violence on 2019-03-14\n",
      "Included news broadcasted on 2019-03-13 for violence on 2019-03-15\n",
      "Included news broadcasted on 2019-03-14 for violence on 2019-03-16\n",
      "Included news broadcasted on 2019-03-15 for violence on 2019-03-17\n",
      "Included news broadcasted on 2019-03-16 for violence on 2019-03-18\n",
      "Included news broadcasted on 2019-03-17 for violence on 2019-03-19\n",
      "Included news broadcasted on 2019-03-18 for violence on 2019-03-20\n",
      "Included news broadcasted on 2019-03-19 for violence on 2019-03-21\n",
      "Included news broadcasted on 2019-03-20 for violence on 2019-03-22\n",
      "Included news broadcasted on 2019-03-21 for violence on 2019-03-23\n",
      "Included news broadcasted on 2019-03-22 for violence on 2019-03-24\n",
      "Included news broadcasted on 2019-03-23 for violence on 2019-03-25\n",
      "Included news broadcasted on 2019-03-24 for violence on 2019-03-26\n",
      "Included news broadcasted on 2019-03-25 for violence on 2019-03-27\n",
      "Included news broadcasted on 2019-03-26 for violence on 2019-03-28\n",
      "Included news broadcasted on 2019-03-27 for violence on 2019-03-29\n",
      "Included news broadcasted on 2019-03-28 for violence on 2019-03-30\n",
      "Included news broadcasted on 2019-03-29 for violence on 2019-03-31\n",
      "Included news broadcasted on 2019-03-30 for violence on 2019-04-01\n",
      "Included news broadcasted on 2019-03-31 for violence on 2019-04-02\n",
      "Included news broadcasted on 2019-04-01 for violence on 2019-04-03\n",
      "Included news broadcasted on 2019-04-02 for violence on 2019-04-04\n",
      "Included news broadcasted on 2019-04-03 for violence on 2019-04-05\n",
      "Included news broadcasted on 2019-04-04 for violence on 2019-04-06\n",
      "Included news broadcasted on 2019-04-05 for violence on 2019-04-07\n",
      "Included news broadcasted on 2019-04-06 for violence on 2019-04-08\n",
      "Included news broadcasted on 2019-04-07 for violence on 2019-04-09\n",
      "Included news broadcasted on 2019-04-08 for violence on 2019-04-10\n",
      "Included news broadcasted on 2019-04-09 for violence on 2019-04-11\n",
      "Included news broadcasted on 2019-04-10 for violence on 2019-04-12\n",
      "Included news broadcasted on 2019-04-11 for violence on 2019-04-13\n",
      "Included news broadcasted on 2019-04-12 for violence on 2019-04-14\n",
      "Included news broadcasted on 2019-04-13 for violence on 2019-04-15\n",
      "Included news broadcasted on 2019-04-14 for violence on 2019-04-16\n",
      "Included news broadcasted on 2019-04-15 for violence on 2019-04-17\n",
      "Included news broadcasted on 2019-04-16 for violence on 2019-04-18\n",
      "Included news broadcasted on 2019-04-17 for violence on 2019-04-19\n",
      "Included news broadcasted on 2019-04-18 for violence on 2019-04-20\n",
      "Included news broadcasted on 2019-04-19 for violence on 2019-04-21\n",
      "Included news broadcasted on 2019-04-20 for violence on 2019-04-22\n",
      "Included news broadcasted on 2019-04-21 for violence on 2019-04-23\n",
      "Included news broadcasted on 2019-04-22 for violence on 2019-04-24\n",
      "Included news broadcasted on 2019-04-23 for violence on 2019-04-25\n",
      "Included news broadcasted on 2019-04-24 for violence on 2019-04-26\n",
      "Included news broadcasted on 2019-04-25 for violence on 2019-04-27\n"
     ]
    }
   ],
   "source": [
    "# count_of_news_days is the number of days we will process for\n",
    "delta = LAST_VIOLENCE_DATE - NEWS_START_DATE\n",
    "count_of_news_days = delta.days - 1\n",
    "\n",
    "# processed_data = create_dataset(NEWS_START_DATE, count_of_news_days, \"DS\")\n",
    "processed_data = create_dataset(NEWS_START_DATE, count_of_news_days, \"DS\", live_data=LIVE_DATA_FLAG)\n",
    "\n",
    "news_signal_for_violence_ds = pd.DataFrame(processed_data, columns= ['news', 'labels', FINAL_DATASET_DATE_LOCATION_HEADER])\n"
   ]
  },
  {
   "cell_type": "markdown",
   "metadata": {},
   "source": [
    "## Persist dataset to disk "
   ]
  },
  {
   "cell_type": "code",
   "execution_count": 1930,
   "metadata": {},
   "outputs": [],
   "source": [
    "# persists final dataset as Pickle file\n",
    "news_signal_for_violence_ds.to_pickle(NEWS_SIGNAL_FOR_VIOLENCE_DATASET_FILE_PKL)\n",
    "\n",
    "# persists final dataset as CSV\n",
    "news_signal_for_violence_ds.to_csv(NEWS_SIGNAL_FOR_VIOLENCE_DATASET_FILE_CSV, sep=',', encoding='utf-8')\n"
   ]
  },
  {
   "cell_type": "code",
   "execution_count": 1931,
   "metadata": {},
   "outputs": [
    {
     "data": {
      "image/png": "[encoded data removed]",
      "text/plain": [
       "<Figure size 432x288 with 1 Axes>"
      ]
     },
     "metadata": {
      "needs_background": "light"
     },
     "output_type": "display_data"
    }
   ],
   "source": [
    "# Check label frequency in final dataset\n",
    "news_signal_for_violence_ds.labels.value_counts().plot(kind='bar');"
   ]
  },
  {
   "cell_type": "markdown",
   "metadata": {},
   "source": [
    "## Read final dataset from disk"
   ]
  },
  {
   "cell_type": "code",
   "execution_count": 1932,
   "metadata": {},
   "outputs": [
    {
     "data": {
      "text/html": [
       "<div>\n",
       "<style scoped>\n",
       "    .dataframe tbody tr th:only-of-type {\n",
       "        vertical-align: middle;\n",
       "    }\n",
       "\n",
       "    .dataframe tbody tr th {\n",
       "        vertical-align: top;\n",
       "    }\n",
       "\n",
       "    .dataframe thead th {\n",
       "        text-align: right;\n",
       "    }\n",
       "</style>\n",
       "<table border=\"1\" class=\"dataframe\">\n",
       "  <thead>\n",
       "    <tr style=\"text-align: right;\">\n",
       "      <th></th>\n",
       "      <th>news</th>\n",
       "      <th>labels</th>\n",
       "      <th>src</th>\n",
       "    </tr>\n",
       "  </thead>\n",
       "  <tbody>\n",
       "    <tr>\n",
       "      <th>0</th>\n",
       "      <td>deputy sp killed in encounter in jammu and kas...</td>\n",
       "      <td>VIOLENCE</td>\n",
       "      <td>2019-02-26__Jammu</td>\n",
       "    </tr>\n",
       "    <tr>\n",
       "      <th>1</th>\n",
       "      <td>senior police officer indian army jawan killed...</td>\n",
       "      <td>NO_VIOLENCE</td>\n",
       "      <td>2019-02-26__Srinagar</td>\n",
       "    </tr>\n",
       "    <tr>\n",
       "      <th>2</th>\n",
       "      <td>toxic moonshine kills 133 people and leaves hu...</td>\n",
       "      <td>VIOLENCE</td>\n",
       "      <td>2019-02-26__Delhi-New Delhi</td>\n",
       "    </tr>\n",
       "    <tr>\n",
       "      <th>3</th>\n",
       "      <td>ludhiana land scam ask minister ashu to resign...</td>\n",
       "      <td>VIOLENCE</td>\n",
       "      <td>2019-02-26__Ludhiana</td>\n",
       "    </tr>\n",
       "    <tr>\n",
       "      <th>4</th>\n",
       "      <td>rajamaharaja government in punjab #39;mahagath...</td>\n",
       "      <td>NO_VIOLENCE</td>\n",
       "      <td>2019-02-26__Bathinda</td>\n",
       "    </tr>\n",
       "    <tr>\n",
       "      <th>5</th>\n",
       "      <td>assam hooch tragedy toll rises to 124\\ndhaka p...</td>\n",
       "      <td>VIOLENCE</td>\n",
       "      <td>2019-02-26__Guwahati</td>\n",
       "    </tr>\n",
       "    <tr>\n",
       "      <th>6</th>\n",
       "      <td></td>\n",
       "      <td>VIOLENCE</td>\n",
       "      <td>2019-02-26__Imphal</td>\n",
       "    </tr>\n",
       "    <tr>\n",
       "      <th>7</th>\n",
       "      <td>ysrcp chief jagan in london to bring hawala mo...</td>\n",
       "      <td>VIOLENCE</td>\n",
       "      <td>2019-02-26__Hyderabad</td>\n",
       "    </tr>\n",
       "    <tr>\n",
       "      <th>8</th>\n",
       "      <td>cheque bounce cases five days later farmers li...</td>\n",
       "      <td>NO_VIOLENCE</td>\n",
       "      <td>2019-02-26__Patiala</td>\n",
       "    </tr>\n",
       "    <tr>\n",
       "      <th>9</th>\n",
       "      <td>india vs pakistan sourav ganguly clarifies sta...</td>\n",
       "      <td>NO_VIOLENCE</td>\n",
       "      <td>2019-02-26__Kolkata</td>\n",
       "    </tr>\n",
       "    <tr>\n",
       "      <th>10</th>\n",
       "      <td>government will teach terrorists a lesson amit...</td>\n",
       "      <td>NO_VIOLENCE</td>\n",
       "      <td>2019-02-26__Amritsar</td>\n",
       "    </tr>\n",
       "    <tr>\n",
       "      <th>11</th>\n",
       "      <td>architects to organise chandigarh urban festiv...</td>\n",
       "      <td>NO_VIOLENCE</td>\n",
       "      <td>2019-02-26__Chandigarh</td>\n",
       "    </tr>\n",
       "    <tr>\n",
       "      <th>12</th>\n",
       "      <td>jewellery documents go up in smoke  the new in...</td>\n",
       "      <td>NO_VIOLENCE</td>\n",
       "      <td>2019-02-26__Bengaluru</td>\n",
       "    </tr>\n",
       "    <tr>\n",
       "      <th>13</th>\n",
       "      <td>iit bhubaneswar summer internship applications...</td>\n",
       "      <td>NO_VIOLENCE</td>\n",
       "      <td>2019-02-26__Bhubaneswar</td>\n",
       "    </tr>\n",
       "    <tr>\n",
       "      <th>14</th>\n",
       "      <td>pm modi to kick off rs 75000 crore kisan schem...</td>\n",
       "      <td>NO_VIOLENCE</td>\n",
       "      <td>2019-02-26__Lucknow</td>\n",
       "    </tr>\n",
       "    <tr>\n",
       "      <th>15</th>\n",
       "      <td>can modi govt hold timely elections in j&amp;k oma...</td>\n",
       "      <td>NO_VIOLENCE</td>\n",
       "      <td>2019-02-27__Jammu</td>\n",
       "    </tr>\n",
       "    <tr>\n",
       "      <th>16</th>\n",
       "      <td>can modi govt hold timely elections in j&amp;k oma...</td>\n",
       "      <td>VIOLENCE</td>\n",
       "      <td>2019-02-27__Srinagar</td>\n",
       "    </tr>\n",
       "    <tr>\n",
       "      <th>17</th>\n",
       "      <td>pnr enquiry to complaint status all in a singl...</td>\n",
       "      <td>VIOLENCE</td>\n",
       "      <td>2019-02-27__Delhi-New Delhi</td>\n",
       "    </tr>\n",
       "    <tr>\n",
       "      <th>18</th>\n",
       "      <td>delhi at rally by sanitation workers demands f...</td>\n",
       "      <td>VIOLENCE</td>\n",
       "      <td>2019-02-27__Ludhiana</td>\n",
       "    </tr>\n",
       "    <tr>\n",
       "      <th>19</th>\n",
       "      <td>nfl recruitment apply for 52 vacancies for gra...</td>\n",
       "      <td>NO_VIOLENCE</td>\n",
       "      <td>2019-02-27__Bathinda</td>\n",
       "    </tr>\n",
       "    <tr>\n",
       "      <th>20</th>\n",
       "      <td>smriti mandhana to lead india in threematch t2...</td>\n",
       "      <td>VIOLENCE</td>\n",
       "      <td>2019-02-27__Guwahati</td>\n",
       "    </tr>\n",
       "    <tr>\n",
       "      <th>21</th>\n",
       "      <td>manipur fake encounters kin allege bribe for s...</td>\n",
       "      <td>NO_VIOLENCE</td>\n",
       "      <td>2019-02-27__Imphal</td>\n",
       "    </tr>\n",
       "    <tr>\n",
       "      <th>22</th>\n",
       "      <td>did aimim oppose electoral roll cleanup in hyd...</td>\n",
       "      <td>VIOLENCE</td>\n",
       "      <td>2019-02-27__Hyderabad</td>\n",
       "    </tr>\n",
       "    <tr>\n",
       "      <th>23</th>\n",
       "      <td>priya ramani given bail in mj akbar defamation...</td>\n",
       "      <td>VIOLENCE</td>\n",
       "      <td>2019-02-27__Patiala</td>\n",
       "    </tr>\n",
       "    <tr>\n",
       "      <th>24</th>\n",
       "      <td>political blame game erupts in west bengal aft...</td>\n",
       "      <td>VIOLENCE</td>\n",
       "      <td>2019-02-27__Kolkata</td>\n",
       "    </tr>\n",
       "    <tr>\n",
       "      <th>25</th>\n",
       "      <td>venezuela north korea academy awards your mond...</td>\n",
       "      <td>NO_VIOLENCE</td>\n",
       "      <td>2019-02-27__Amritsar</td>\n",
       "    </tr>\n",
       "    <tr>\n",
       "      <th>26</th>\n",
       "      <td>chandigarh 277 pledge to donate organs at rose...</td>\n",
       "      <td>VIOLENCE</td>\n",
       "      <td>2019-02-27__Chandigarh</td>\n",
       "    </tr>\n",
       "    <tr>\n",
       "      <th>27</th>\n",
       "      <td>sec asks judge to hold teslas musk in contempt...</td>\n",
       "      <td>NO_VIOLENCE</td>\n",
       "      <td>2019-02-27__Bengaluru</td>\n",
       "    </tr>\n",
       "    <tr>\n",
       "      <th>28</th>\n",
       "      <td>minister shri dharmendra pradhan addresses par...</td>\n",
       "      <td>NO_VIOLENCE</td>\n",
       "      <td>2019-02-27__Bhubaneswar</td>\n",
       "    </tr>\n",
       "    <tr>\n",
       "      <th>29</th>\n",
       "      <td>adani group wins bids to operate 5 airports fo...</td>\n",
       "      <td>NO_VIOLENCE</td>\n",
       "      <td>2019-02-27__Lucknow</td>\n",
       "    </tr>\n",
       "    <tr>\n",
       "      <th>...</th>\n",
       "      <td>...</td>\n",
       "      <td>...</td>\n",
       "      <td>...</td>\n",
       "    </tr>\n",
       "    <tr>\n",
       "      <th>900</th>\n",
       "      <td>2 militants killed in encounter in j&amp;k’s anant...</td>\n",
       "      <td>VIOLENCE</td>\n",
       "      <td>2019-04-27__Jammu</td>\n",
       "    </tr>\n",
       "    <tr>\n",
       "      <th>901</th>\n",
       "      <td>ed summons daughter of kashmiri separatist sha...</td>\n",
       "      <td>VIOLENCE</td>\n",
       "      <td>2019-04-27__Srinagar</td>\n",
       "    </tr>\n",
       "    <tr>\n",
       "      <th>902</th>\n",
       "      <td>do tieups happen on twitter kejriwal asks rahu...</td>\n",
       "      <td>VIOLENCE</td>\n",
       "      <td>2019-04-27__Delhi-New Delhi</td>\n",
       "    </tr>\n",
       "    <tr>\n",
       "      <th>903</th>\n",
       "      <td>‘mr singh food king’ files nomination wants to...</td>\n",
       "      <td>VIOLENCE</td>\n",
       "      <td>2019-04-27__Ludhiana</td>\n",
       "    </tr>\n",
       "    <tr>\n",
       "      <th>904</th>\n",
       "      <td>scientists discover first helium hydride molec...</td>\n",
       "      <td>VIOLENCE</td>\n",
       "      <td>2019-04-27__Bathinda</td>\n",
       "    </tr>\n",
       "    <tr>\n",
       "      <th>905</th>\n",
       "      <td>assam turnout countrys highest in 3rd phase\\nv...</td>\n",
       "      <td>NO_VIOLENCE</td>\n",
       "      <td>2019-04-27__Guwahati</td>\n",
       "    </tr>\n",
       "    <tr>\n",
       "      <th>906</th>\n",
       "      <td>manipur education department decries bomb thre...</td>\n",
       "      <td>NO_VIOLENCE</td>\n",
       "      <td>2019-04-27__Imphal</td>\n",
       "    </tr>\n",
       "    <tr>\n",
       "      <th>907</th>\n",
       "      <td>conversations of discovery\\nrrr actor jr ntr i...</td>\n",
       "      <td>NO_VIOLENCE</td>\n",
       "      <td>2019-04-27__Hyderabad</td>\n",
       "    </tr>\n",
       "    <tr>\n",
       "      <th>908</th>\n",
       "      <td>asian championships with his guard up kavinder...</td>\n",
       "      <td>VIOLENCE</td>\n",
       "      <td>2019-04-27__Patiala</td>\n",
       "    </tr>\n",
       "    <tr>\n",
       "      <th>909</th>\n",
       "      <td>ipl 2019 highest runscorers wickettakers more ...</td>\n",
       "      <td>NO_VIOLENCE</td>\n",
       "      <td>2019-04-27__Kolkata</td>\n",
       "    </tr>\n",
       "    <tr>\n",
       "      <th>910</th>\n",
       "      <td>bjp says jaitley debacle won’t happen again as...</td>\n",
       "      <td>NO_VIOLENCE</td>\n",
       "      <td>2019-04-27__Amritsar</td>\n",
       "    </tr>\n",
       "    <tr>\n",
       "      <th>911</th>\n",
       "      <td>on its golden jubilee tracing evolution of cha...</td>\n",
       "      <td>VIOLENCE</td>\n",
       "      <td>2019-04-27__Chandigarh</td>\n",
       "    </tr>\n",
       "    <tr>\n",
       "      <th>912</th>\n",
       "      <td>girl who fled home to avoid child marriage sco...</td>\n",
       "      <td>VIOLENCE</td>\n",
       "      <td>2019-04-27__Bengaluru</td>\n",
       "    </tr>\n",
       "    <tr>\n",
       "      <th>913</th>\n",
       "      <td>manhunt launched for bjp candidate\\nec announc...</td>\n",
       "      <td>NO_VIOLENCE</td>\n",
       "      <td>2019-04-27__Bhubaneswar</td>\n",
       "    </tr>\n",
       "    <tr>\n",
       "      <th>914</th>\n",
       "      <td>akhilesh mayawati ‘pm material’ for being cms ...</td>\n",
       "      <td>NO_VIOLENCE</td>\n",
       "      <td>2019-04-27__Lucknow</td>\n",
       "    </tr>\n",
       "    <tr>\n",
       "      <th>915</th>\n",
       "      <td>indian army defers war fighting exercise amid ...</td>\n",
       "      <td>NO_VIOLENCE</td>\n",
       "      <td>2019-05-08__Jammu</td>\n",
       "    </tr>\n",
       "    <tr>\n",
       "      <th>916</th>\n",
       "      <td>after leh journalists bribe claim cctv clip em...</td>\n",
       "      <td>NO_VIOLENCE</td>\n",
       "      <td>2019-05-08__Srinagar</td>\n",
       "    </tr>\n",
       "    <tr>\n",
       "      <th>917</th>\n",
       "      <td>homebuyers in sc to stop jil dissolution\\nus s...</td>\n",
       "      <td>NO_VIOLENCE</td>\n",
       "      <td>2019-05-08__Delhi-New Delhi</td>\n",
       "    </tr>\n",
       "    <tr>\n",
       "      <th>918</th>\n",
       "      <td>pseb punjab board 10th result 2019 when and wh...</td>\n",
       "      <td>NO_VIOLENCE</td>\n",
       "      <td>2019-05-08__Ludhiana</td>\n",
       "    </tr>\n",
       "    <tr>\n",
       "      <th>919</th>\n",
       "      <td>punjab day before protest by panthic groups de...</td>\n",
       "      <td>NO_VIOLENCE</td>\n",
       "      <td>2019-05-08__Bathinda</td>\n",
       "    </tr>\n",
       "    <tr>\n",
       "      <th>920</th>\n",
       "      <td></td>\n",
       "      <td>NO_VIOLENCE</td>\n",
       "      <td>2019-05-08__Guwahati</td>\n",
       "    </tr>\n",
       "    <tr>\n",
       "      <th>921</th>\n",
       "      <td></td>\n",
       "      <td>NO_VIOLENCE</td>\n",
       "      <td>2019-05-08__Imphal</td>\n",
       "    </tr>\n",
       "    <tr>\n",
       "      <th>922</th>\n",
       "      <td>cash meant for atms stolen in hyderabad\\ndc vs...</td>\n",
       "      <td>NO_VIOLENCE</td>\n",
       "      <td>2019-05-08__Hyderabad</td>\n",
       "    </tr>\n",
       "    <tr>\n",
       "      <th>923</th>\n",
       "      <td>after merger bank of baroda looks at changing ...</td>\n",
       "      <td>NO_VIOLENCE</td>\n",
       "      <td>2019-05-08__Patiala</td>\n",
       "    </tr>\n",
       "    <tr>\n",
       "      <th>924</th>\n",
       "      <td>come clean on agusta scam nirmala sitharaman t...</td>\n",
       "      <td>NO_VIOLENCE</td>\n",
       "      <td>2019-05-08__Kolkata</td>\n",
       "    </tr>\n",
       "    <tr>\n",
       "      <th>925</th>\n",
       "      <td>pm maya rallies in doaba region this week\\nbjp...</td>\n",
       "      <td>NO_VIOLENCE</td>\n",
       "      <td>2019-05-08__Amritsar</td>\n",
       "    </tr>\n",
       "    <tr>\n",
       "      <th>926</th>\n",
       "      <td>aap leader harmohan dhawan discusses his plans...</td>\n",
       "      <td>NO_VIOLENCE</td>\n",
       "      <td>2019-05-08__Chandigarh</td>\n",
       "    </tr>\n",
       "    <tr>\n",
       "      <th>927</th>\n",
       "      <td>bengaluru will soon be a destination for mantr...</td>\n",
       "      <td>NO_VIOLENCE</td>\n",
       "      <td>2019-05-08__Bengaluru</td>\n",
       "    </tr>\n",
       "    <tr>\n",
       "      <th>928</th>\n",
       "      <td>cyclone fani toll rises to 37 with 156 lakh el...</td>\n",
       "      <td>NO_VIOLENCE</td>\n",
       "      <td>2019-05-08__Bhubaneswar</td>\n",
       "    </tr>\n",
       "    <tr>\n",
       "      <th>929</th>\n",
       "      <td>8 buildings designed to look like what the bus...</td>\n",
       "      <td>NO_VIOLENCE</td>\n",
       "      <td>2019-05-08__Lucknow</td>\n",
       "    </tr>\n",
       "  </tbody>\n",
       "</table>\n",
       "<p>930 rows × 3 columns</p>\n",
       "</div>"
      ],
      "text/plain": [
       "                                                  news       labels  \\\n",
       "0    deputy sp killed in encounter in jammu and kas...     VIOLENCE   \n",
       "1    senior police officer indian army jawan killed...  NO_VIOLENCE   \n",
       "2    toxic moonshine kills 133 people and leaves hu...     VIOLENCE   \n",
       "3    ludhiana land scam ask minister ashu to resign...     VIOLENCE   \n",
       "4    rajamaharaja government in punjab #39;mahagath...  NO_VIOLENCE   \n",
       "5    assam hooch tragedy toll rises to 124\\ndhaka p...     VIOLENCE   \n",
       "6                                                          VIOLENCE   \n",
       "7    ysrcp chief jagan in london to bring hawala mo...     VIOLENCE   \n",
       "8    cheque bounce cases five days later farmers li...  NO_VIOLENCE   \n",
       "9    india vs pakistan sourav ganguly clarifies sta...  NO_VIOLENCE   \n",
       "10   government will teach terrorists a lesson amit...  NO_VIOLENCE   \n",
       "11   architects to organise chandigarh urban festiv...  NO_VIOLENCE   \n",
       "12   jewellery documents go up in smoke  the new in...  NO_VIOLENCE   \n",
       "13   iit bhubaneswar summer internship applications...  NO_VIOLENCE   \n",
       "14   pm modi to kick off rs 75000 crore kisan schem...  NO_VIOLENCE   \n",
       "15   can modi govt hold timely elections in j&k oma...  NO_VIOLENCE   \n",
       "16   can modi govt hold timely elections in j&k oma...     VIOLENCE   \n",
       "17   pnr enquiry to complaint status all in a singl...     VIOLENCE   \n",
       "18   delhi at rally by sanitation workers demands f...     VIOLENCE   \n",
       "19   nfl recruitment apply for 52 vacancies for gra...  NO_VIOLENCE   \n",
       "20   smriti mandhana to lead india in threematch t2...     VIOLENCE   \n",
       "21   manipur fake encounters kin allege bribe for s...  NO_VIOLENCE   \n",
       "22   did aimim oppose electoral roll cleanup in hyd...     VIOLENCE   \n",
       "23   priya ramani given bail in mj akbar defamation...     VIOLENCE   \n",
       "24   political blame game erupts in west bengal aft...     VIOLENCE   \n",
       "25   venezuela north korea academy awards your mond...  NO_VIOLENCE   \n",
       "26   chandigarh 277 pledge to donate organs at rose...     VIOLENCE   \n",
       "27   sec asks judge to hold teslas musk in contempt...  NO_VIOLENCE   \n",
       "28   minister shri dharmendra pradhan addresses par...  NO_VIOLENCE   \n",
       "29   adani group wins bids to operate 5 airports fo...  NO_VIOLENCE   \n",
       "..                                                 ...          ...   \n",
       "900  2 militants killed in encounter in j&k’s anant...     VIOLENCE   \n",
       "901  ed summons daughter of kashmiri separatist sha...     VIOLENCE   \n",
       "902  do tieups happen on twitter kejriwal asks rahu...     VIOLENCE   \n",
       "903  ‘mr singh food king’ files nomination wants to...     VIOLENCE   \n",
       "904  scientists discover first helium hydride molec...     VIOLENCE   \n",
       "905  assam turnout countrys highest in 3rd phase\\nv...  NO_VIOLENCE   \n",
       "906  manipur education department decries bomb thre...  NO_VIOLENCE   \n",
       "907  conversations of discovery\\nrrr actor jr ntr i...  NO_VIOLENCE   \n",
       "908  asian championships with his guard up kavinder...     VIOLENCE   \n",
       "909  ipl 2019 highest runscorers wickettakers more ...  NO_VIOLENCE   \n",
       "910  bjp says jaitley debacle won’t happen again as...  NO_VIOLENCE   \n",
       "911  on its golden jubilee tracing evolution of cha...     VIOLENCE   \n",
       "912  girl who fled home to avoid child marriage sco...     VIOLENCE   \n",
       "913  manhunt launched for bjp candidate\\nec announc...  NO_VIOLENCE   \n",
       "914  akhilesh mayawati ‘pm material’ for being cms ...  NO_VIOLENCE   \n",
       "915  indian army defers war fighting exercise amid ...  NO_VIOLENCE   \n",
       "916  after leh journalists bribe claim cctv clip em...  NO_VIOLENCE   \n",
       "917  homebuyers in sc to stop jil dissolution\\nus s...  NO_VIOLENCE   \n",
       "918  pseb punjab board 10th result 2019 when and wh...  NO_VIOLENCE   \n",
       "919  punjab day before protest by panthic groups de...  NO_VIOLENCE   \n",
       "920                                                     NO_VIOLENCE   \n",
       "921                                                     NO_VIOLENCE   \n",
       "922  cash meant for atms stolen in hyderabad\\ndc vs...  NO_VIOLENCE   \n",
       "923  after merger bank of baroda looks at changing ...  NO_VIOLENCE   \n",
       "924  come clean on agusta scam nirmala sitharaman t...  NO_VIOLENCE   \n",
       "925  pm maya rallies in doaba region this week\\nbjp...  NO_VIOLENCE   \n",
       "926  aap leader harmohan dhawan discusses his plans...  NO_VIOLENCE   \n",
       "927  bengaluru will soon be a destination for mantr...  NO_VIOLENCE   \n",
       "928  cyclone fani toll rises to 37 with 156 lakh el...  NO_VIOLENCE   \n",
       "929  8 buildings designed to look like what the bus...  NO_VIOLENCE   \n",
       "\n",
       "                             src  \n",
       "0              2019-02-26__Jammu  \n",
       "1           2019-02-26__Srinagar  \n",
       "2    2019-02-26__Delhi-New Delhi  \n",
       "3           2019-02-26__Ludhiana  \n",
       "4           2019-02-26__Bathinda  \n",
       "5           2019-02-26__Guwahati  \n",
       "6             2019-02-26__Imphal  \n",
       "7          2019-02-26__Hyderabad  \n",
       "8            2019-02-26__Patiala  \n",
       "9            2019-02-26__Kolkata  \n",
       "10          2019-02-26__Amritsar  \n",
       "11        2019-02-26__Chandigarh  \n",
       "12         2019-02-26__Bengaluru  \n",
       "13       2019-02-26__Bhubaneswar  \n",
       "14           2019-02-26__Lucknow  \n",
       "15             2019-02-27__Jammu  \n",
       "16          2019-02-27__Srinagar  \n",
       "17   2019-02-27__Delhi-New Delhi  \n",
       "18          2019-02-27__Ludhiana  \n",
       "19          2019-02-27__Bathinda  \n",
       "20          2019-02-27__Guwahati  \n",
       "21            2019-02-27__Imphal  \n",
       "22         2019-02-27__Hyderabad  \n",
       "23           2019-02-27__Patiala  \n",
       "24           2019-02-27__Kolkata  \n",
       "25          2019-02-27__Amritsar  \n",
       "26        2019-02-27__Chandigarh  \n",
       "27         2019-02-27__Bengaluru  \n",
       "28       2019-02-27__Bhubaneswar  \n",
       "29           2019-02-27__Lucknow  \n",
       "..                           ...  \n",
       "900            2019-04-27__Jammu  \n",
       "901         2019-04-27__Srinagar  \n",
       "902  2019-04-27__Delhi-New Delhi  \n",
       "903         2019-04-27__Ludhiana  \n",
       "904         2019-04-27__Bathinda  \n",
       "905         2019-04-27__Guwahati  \n",
       "906           2019-04-27__Imphal  \n",
       "907        2019-04-27__Hyderabad  \n",
       "908          2019-04-27__Patiala  \n",
       "909          2019-04-27__Kolkata  \n",
       "910         2019-04-27__Amritsar  \n",
       "911       2019-04-27__Chandigarh  \n",
       "912        2019-04-27__Bengaluru  \n",
       "913      2019-04-27__Bhubaneswar  \n",
       "914          2019-04-27__Lucknow  \n",
       "915            2019-05-08__Jammu  \n",
       "916         2019-05-08__Srinagar  \n",
       "917  2019-05-08__Delhi-New Delhi  \n",
       "918         2019-05-08__Ludhiana  \n",
       "919         2019-05-08__Bathinda  \n",
       "920         2019-05-08__Guwahati  \n",
       "921           2019-05-08__Imphal  \n",
       "922        2019-05-08__Hyderabad  \n",
       "923          2019-05-08__Patiala  \n",
       "924          2019-05-08__Kolkata  \n",
       "925         2019-05-08__Amritsar  \n",
       "926       2019-05-08__Chandigarh  \n",
       "927        2019-05-08__Bengaluru  \n",
       "928      2019-05-08__Bhubaneswar  \n",
       "929          2019-05-08__Lucknow  \n",
       "\n",
       "[930 rows x 3 columns]"
      ]
     },
     "execution_count": 1932,
     "metadata": {},
     "output_type": "execute_result"
    }
   ],
   "source": [
    "news_signal_for_violence_ds = pd.read_pickle(NEWS_SIGNAL_FOR_VIOLENCE_DATASET_FILE_PKL)\n",
    "news_signal_for_violence_ds"
   ]
  },
  {
   "cell_type": "markdown",
   "metadata": {},
   "source": [
    "## Cleaning the final dataset"
   ]
  },
  {
   "cell_type": "code",
   "execution_count": 1933,
   "metadata": {},
   "outputs": [
    {
     "data": {
      "text/html": [
       "<div>\n",
       "<style scoped>\n",
       "    .dataframe tbody tr th:only-of-type {\n",
       "        vertical-align: middle;\n",
       "    }\n",
       "\n",
       "    .dataframe tbody tr th {\n",
       "        vertical-align: top;\n",
       "    }\n",
       "\n",
       "    .dataframe thead th {\n",
       "        text-align: right;\n",
       "    }\n",
       "</style>\n",
       "<table border=\"1\" class=\"dataframe\">\n",
       "  <thead>\n",
       "    <tr style=\"text-align: right;\">\n",
       "      <th></th>\n",
       "      <th>news</th>\n",
       "      <th>labels</th>\n",
       "      <th>src</th>\n",
       "    </tr>\n",
       "  </thead>\n",
       "  <tbody>\n",
       "    <tr>\n",
       "      <th>count</th>\n",
       "      <td>930</td>\n",
       "      <td>930</td>\n",
       "      <td>930</td>\n",
       "    </tr>\n",
       "    <tr>\n",
       "      <th>unique</th>\n",
       "      <td>906</td>\n",
       "      <td>2</td>\n",
       "      <td>930</td>\n",
       "    </tr>\n",
       "    <tr>\n",
       "      <th>top</th>\n",
       "      <td></td>\n",
       "      <td>NO_VIOLENCE</td>\n",
       "      <td>2019-03-14__Patiala</td>\n",
       "    </tr>\n",
       "    <tr>\n",
       "      <th>freq</th>\n",
       "      <td>25</td>\n",
       "      <td>508</td>\n",
       "      <td>1</td>\n",
       "    </tr>\n",
       "  </tbody>\n",
       "</table>\n",
       "</div>"
      ],
      "text/plain": [
       "       news       labels                  src\n",
       "count   930          930                  930\n",
       "unique  906            2                  930\n",
       "top          NO_VIOLENCE  2019-03-14__Patiala\n",
       "freq     25          508                    1"
      ]
     },
     "execution_count": 1933,
     "metadata": {},
     "output_type": "execute_result"
    }
   ],
   "source": [
    "news_signal_for_violence_ds.describe()"
   ]
  },
  {
   "cell_type": "code",
   "execution_count": 1934,
   "metadata": {},
   "outputs": [],
   "source": [
    "# Removing null or empty values\n",
    "news_signal_for_violence_ds.dropna(axis = 0, how ='any') \n",
    "news_signal_for_violence_ds['news'].replace('', np.nan, inplace=True)\n",
    "news_signal_for_violence_ds.dropna(axis=0, how='any', inplace=True)\n",
    "\n",
    "# shuffle\n",
    "if not LIVE_DATA_FLAG:\n",
    "    news_signal_for_violence_ds = news_signal_for_violence_ds.sample(frac=1).reset_index(drop=True)\n",
    "\n",
    "# Renaming 'label' attrivute to 'violence_label'\n",
    "news_signal_for_violence_ds = news_signal_for_violence_ds.rename(columns = {'labels': 'violence_label'})\n",
    "\n",
    "# make copy of dataset\n",
    "ds2 = news_signal_for_violence_ds.copy(deep=True)\n",
    "\n",
    "# drop date_location attribute\n",
    "news_signal_for_violence_ds.drop([FINAL_DATASET_DATE_LOCATION_HEADER], inplace=True, axis=1)"
   ]
  },
  {
   "cell_type": "code",
   "execution_count": 1935,
   "metadata": {},
   "outputs": [
    {
     "data": {
      "text/html": [
       "<div>\n",
       "<style scoped>\n",
       "    .dataframe tbody tr th:only-of-type {\n",
       "        vertical-align: middle;\n",
       "    }\n",
       "\n",
       "    .dataframe tbody tr th {\n",
       "        vertical-align: top;\n",
       "    }\n",
       "\n",
       "    .dataframe thead th {\n",
       "        text-align: right;\n",
       "    }\n",
       "</style>\n",
       "<table border=\"1\" class=\"dataframe\">\n",
       "  <thead>\n",
       "    <tr style=\"text-align: right;\">\n",
       "      <th></th>\n",
       "      <th>news</th>\n",
       "      <th>violence_label</th>\n",
       "    </tr>\n",
       "  </thead>\n",
       "  <tbody>\n",
       "    <tr>\n",
       "      <th>count</th>\n",
       "      <td>905</td>\n",
       "      <td>905</td>\n",
       "    </tr>\n",
       "    <tr>\n",
       "      <th>unique</th>\n",
       "      <td>905</td>\n",
       "      <td>2</td>\n",
       "    </tr>\n",
       "    <tr>\n",
       "      <th>top</th>\n",
       "      <td>regrettable that nonneutral person appointed o...</td>\n",
       "      <td>NO_VIOLENCE</td>\n",
       "    </tr>\n",
       "    <tr>\n",
       "      <th>freq</th>\n",
       "      <td>1</td>\n",
       "      <td>493</td>\n",
       "    </tr>\n",
       "  </tbody>\n",
       "</table>\n",
       "</div>"
      ],
      "text/plain": [
       "                                                     news violence_label\n",
       "count                                                 905            905\n",
       "unique                                                905              2\n",
       "top     regrettable that nonneutral person appointed o...    NO_VIOLENCE\n",
       "freq                                                    1            493"
      ]
     },
     "execution_count": 1935,
     "metadata": {},
     "output_type": "execute_result"
    }
   ],
   "source": [
    "news_signal_for_violence_ds.describe()"
   ]
  },
  {
   "cell_type": "code",
   "execution_count": null,
   "metadata": {},
   "outputs": [],
   "source": []
  },
  {
   "cell_type": "markdown",
   "metadata": {},
   "source": [
    "## Splitting data into Training and Test set"
   ]
  },
  {
   "cell_type": "code",
   "execution_count": 1936,
   "metadata": {},
   "outputs": [],
   "source": [
    "# y are the labels\n",
    "y = news_signal_for_violence_ds.violence_label\n",
    "\n",
    "# dropping the 'src' attribute as it is not required\n",
    "news_signal_for_violence_ds.drop(['violence_label'], axis=1, inplace=True)\n",
    "\n",
    "# X is the news data\n",
    "X = news_signal_for_violence_ds.news\n",
    "\n",
    "from sklearn.model_selection import train_test_split\n",
    "\n",
    "frac = 0.2\n",
    "rowCount = len(X.index)\n",
    "if (0.2*rowCount <= len(locations)):\n",
    "    frac = 15.0/rowCount\n",
    "X_train, X_test, y_train, y_test = train_test_split(X, y, test_size=frac, shuffle = False)"
   ]
  },
  {
   "cell_type": "code",
   "execution_count": 1937,
   "metadata": {},
   "outputs": [
    {
     "name": "stdout",
     "output_type": "stream",
     "text": [
      "0.2\n"
     ]
    }
   ],
   "source": [
    "print(frac)"
   ]
  },
  {
   "cell_type": "markdown",
   "metadata": {},
   "source": [
    "## Helper methods to create dataset for FastTest\n"
   ]
  },
  {
   "cell_type": "code",
   "execution_count": 1938,
   "metadata": {},
   "outputs": [],
   "source": [
    "\n",
    "# method for creating fasttext sets\n",
    "def create_fasttext_set(records, labels, set_tag):\n",
    "\n",
    "    OUTPUT_DIR = FASTTEXT_DATASET_DIR\n",
    "    out_file_path = \"{}{}.txt\".format(OUTPUT_DIR, set_tag)\n",
    "    \n",
    "    records = records.tolist()\n",
    "    labels = labels.tolist()\n",
    "    \n",
    "    no_of_records = len(records)\n",
    "    \n",
    "    combined = \"\"\n",
    "    for i in range(no_of_records):\n",
    "        record_data = records[i]\n",
    "        record_label = 0 if labels[i] == \"NO_VIOLENCE\" else 1\n",
    "        combined += \"__label__{} {}{}\".format(record_label, record_data, os.linesep)\n",
    "        \n",
    "    with open(out_file_path, 'w') as out_file:\n",
    "        out_file.write(combined)\n",
    "    \n",
    "\n",
    "def create_fasttext_train_and_test_sets(X_train, X_test, y_train, y_test):\n",
    "    \n",
    "    create_fasttext_set(X_train, y_train, \"train_set\")\n",
    "    create_fasttext_set(X_test, y_test, \"test_set\")\n"
   ]
  },
  {
   "cell_type": "code",
   "execution_count": 1939,
   "metadata": {},
   "outputs": [],
   "source": [
    "# Writes generated datasets to disk\n",
    "create_fasttext_train_and_test_sets(X_train, X_test, y_train, y_test)"
   ]
  },
  {
   "cell_type": "markdown",
   "metadata": {},
   "source": [
    "# Building the Model"
   ]
  },
  {
   "cell_type": "code",
   "execution_count": 1940,
   "metadata": {},
   "outputs": [],
   "source": [
    "from sklearn.pipeline import Pipeline\n",
    "from sklearn.metrics import accuracy_score\n",
    "from sklearn.metrics import classification_report"
   ]
  },
  {
   "cell_type": "markdown",
   "metadata": {},
   "source": [
    "## Multinomial Naive Bayes"
   ]
  },
  {
   "cell_type": "code",
   "execution_count": 1941,
   "metadata": {},
   "outputs": [
    {
     "name": "stdout",
     "output_type": "stream",
     "text": [
      "Multinomial Naive Bayes\n",
      "accuracy 0.6077348066298343\n",
      "              precision    recall  f1-score   support\n",
      "\n",
      " NO_VIOLENCE       0.60      0.92      0.73       102\n",
      "    VIOLENCE       0.67      0.20      0.31        79\n",
      "\n",
      "   micro avg       0.61      0.61      0.61       181\n",
      "   macro avg       0.63      0.56      0.52       181\n",
      "weighted avg       0.63      0.61      0.54       181\n",
      "\n"
     ]
    }
   ],
   "source": [
    "from sklearn.naive_bayes import MultinomialNB\n",
    "from sklearn.feature_extraction.text import TfidfTransformer\n",
    "from sklearn.feature_extraction.text import CountVectorizer\n",
    "\n",
    "nb = Pipeline([('vect', CountVectorizer()),\n",
    "               ('tfidf', TfidfTransformer()),\n",
    "               ('clf', MultinomialNB()),\n",
    "              ])\n",
    "nb.fit(X_train, y_train)\n",
    "\n",
    "y_pred = nb.predict(X_test)\n",
    "\n",
    "print(\"Multinomial Naive Bayes\")\n",
    "print('accuracy %s' % accuracy_score(y_pred, y_test))\n",
    "print(classification_report(y_test, y_pred))"
   ]
  },
  {
   "cell_type": "code",
   "execution_count": 1942,
   "metadata": {},
   "outputs": [],
   "source": [
    "# vectorizer = CountVectorizer()\n",
    "# # tokenize and build vocab\n",
    "# vectorizer.fit(X_train)\n",
    "# # summarize\n",
    "# print(vectorizer.vocabulary_)\n",
    "# # encode document\n",
    "# vector = vectorizer.transform(X_train)\n",
    "# # summarize encoded vector\n",
    "# print(vector.shape)\n",
    "# print(type(vector))\n",
    "# print(vector.toarray())"
   ]
  },
  {
   "cell_type": "markdown",
   "metadata": {},
   "source": [
    "## SGD Classfier"
   ]
  },
  {
   "cell_type": "code",
   "execution_count": 1943,
   "metadata": {},
   "outputs": [
    {
     "name": "stdout",
     "output_type": "stream",
     "text": [
      "SGD Classifier\n",
      "accuracy 0.5524861878453039\n",
      "              precision    recall  f1-score   support\n",
      "\n",
      " NO_VIOLENCE       0.57      0.81      0.67       102\n",
      "    VIOLENCE       0.47      0.22      0.30        79\n",
      "\n",
      "   micro avg       0.55      0.55      0.55       181\n",
      "   macro avg       0.52      0.51      0.48       181\n",
      "weighted avg       0.53      0.55      0.51       181\n",
      "\n"
     ]
    }
   ],
   "source": [
    "from sklearn.linear_model import SGDClassifier\n",
    "\n",
    "sgd = Pipeline([('vect', CountVectorizer()),\n",
    "                ('tfidf', TfidfTransformer()),\n",
    "                ('clf', SGDClassifier(loss='hinge', penalty='l2',alpha=1e-3, random_state=42, max_iter=5, tol=None)),\n",
    "               ])\n",
    "sgd.fit(X_train, y_train)\n",
    "\n",
    "y_pred = sgd.predict(X_test)\n",
    "\n",
    "print(\"SGD Classifier\")\n",
    "print('accuracy %s' % accuracy_score(y_pred, y_test))\n",
    "print(classification_report(y_test, y_pred))"
   ]
  },
  {
   "cell_type": "markdown",
   "metadata": {},
   "source": [
    "## Logistic Regression"
   ]
  },
  {
   "cell_type": "code",
   "execution_count": 1944,
   "metadata": {},
   "outputs": [
    {
     "name": "stdout",
     "output_type": "stream",
     "text": [
      "Logistic Regression\n",
      "accuracy 0.5193370165745856\n",
      "              precision    recall  f1-score   support\n",
      "\n",
      " NO_VIOLENCE       0.56      0.74      0.63       102\n",
      "    VIOLENCE       0.41      0.24      0.30        79\n",
      "\n",
      "   micro avg       0.52      0.52      0.52       181\n",
      "   macro avg       0.48      0.49      0.47       181\n",
      "weighted avg       0.49      0.52      0.49       181\n",
      "\n"
     ]
    },
    {
     "name": "stderr",
     "output_type": "stream",
     "text": [
      "/Users/zeko/anaconda3/lib/python3.6/site-packages/sklearn/linear_model/logistic.py:432: FutureWarning: Default solver will be changed to 'lbfgs' in 0.22. Specify a solver to silence this warning.\n",
      "  FutureWarning)\n"
     ]
    }
   ],
   "source": [
    "from sklearn.linear_model import LogisticRegression\n",
    "\n",
    "logreg = Pipeline([('vect', CountVectorizer()),\n",
    "                ('tfidf', TfidfTransformer()),\n",
    "                ('clf', LogisticRegression(n_jobs=1, C=1e5)),\n",
    "               ])\n",
    "logreg.fit(X_train, y_train)\n",
    "\n",
    "\n",
    "y_pred = logreg.predict(X_test)\n",
    "\n",
    "print(\"Logistic Regression\")\n",
    "print('accuracy %s' % accuracy_score(y_pred, y_test))\n",
    "print(classification_report(y_test, y_pred))"
   ]
  },
  {
   "cell_type": "code",
   "execution_count": null,
   "metadata": {},
   "outputs": [],
   "source": []
  },
  {
   "cell_type": "markdown",
   "metadata": {},
   "source": [
    "## Including Sentiment Analysis in the models"
   ]
  },
  {
   "cell_type": "code",
   "execution_count": 1945,
   "metadata": {},
   "outputs": [],
   "source": [
    "import json\n",
    "import os\n",
    "from sklearn.base import BaseEstimator, TransformerMixin"
   ]
  },
  {
   "cell_type": "markdown",
   "metadata": {},
   "source": [
    "### Sentiment Score helper methods"
   ]
  },
  {
   "cell_type": "code",
   "execution_count": 1946,
   "metadata": {},
   "outputs": [],
   "source": [
    "def build_sentiment_file_path(date_location):\n",
    "    return SENTIMENT_FILES_DIR + '{}.txt'.format(date_location)\n",
    "\n",
    "def get_sentiment_file(date_location):\n",
    "    file_path = build_sentiment_file_path(date_location)\n",
    "    \n",
    "    # check if sentiment file exists\n",
    "    if os.path.isfile(file_path):\n",
    "        with open(file_path) as f:\n",
    "            data = json.load(f)\n",
    "            return data\n",
    "    else:\n",
    "        return None\n",
    "\n",
    "def compute_avg_score(sentiment_file):        \n",
    "    s = 0.0\n",
    "    ct = 0\n",
    "    for i in sentiment_file:\n",
    "        if i is not None:\n",
    "            s += i['score'] * i['magnitude'] * 100\n",
    "            ct += 1\n",
    "    if ct is not 0:\n",
    "        return s / ct\n",
    "    else:\n",
    "        return 0\n",
    "    \n",
    "def get_sentiment_score(date_location):\n",
    "    \"\"\"Helper code to get sentiment for a day\"\"\"\n",
    "    sentiment_file = get_sentiment_file(date_location)\n",
    "\n",
    "    if sentiment_file is None:\n",
    "        print(\"Sentiment not available for {}\".format(date_location))\n",
    "        return 0\n",
    "\n",
    "    score = compute_avg_score(sentiment_file)\n",
    "#     print(\"Sentiment for {}: {}\".format(date_location, score))\n",
    "    return score"
   ]
  },
  {
   "cell_type": "code",
   "execution_count": 1947,
   "metadata": {},
   "outputs": [
    {
     "data": {
      "text/html": [
       "<div>\n",
       "<style scoped>\n",
       "    .dataframe tbody tr th:only-of-type {\n",
       "        vertical-align: middle;\n",
       "    }\n",
       "\n",
       "    .dataframe tbody tr th {\n",
       "        vertical-align: top;\n",
       "    }\n",
       "\n",
       "    .dataframe thead th {\n",
       "        text-align: right;\n",
       "    }\n",
       "</style>\n",
       "<table border=\"1\" class=\"dataframe\">\n",
       "  <thead>\n",
       "    <tr style=\"text-align: right;\">\n",
       "      <th></th>\n",
       "      <th>news</th>\n",
       "      <th>violence_label</th>\n",
       "      <th>src</th>\n",
       "    </tr>\n",
       "  </thead>\n",
       "  <tbody>\n",
       "    <tr>\n",
       "      <th>count</th>\n",
       "      <td>905</td>\n",
       "      <td>905</td>\n",
       "      <td>905</td>\n",
       "    </tr>\n",
       "    <tr>\n",
       "      <th>unique</th>\n",
       "      <td>905</td>\n",
       "      <td>2</td>\n",
       "      <td>905</td>\n",
       "    </tr>\n",
       "    <tr>\n",
       "      <th>top</th>\n",
       "      <td>regrettable that nonneutral person appointed o...</td>\n",
       "      <td>NO_VIOLENCE</td>\n",
       "      <td>2019-03-14__Patiala</td>\n",
       "    </tr>\n",
       "    <tr>\n",
       "      <th>freq</th>\n",
       "      <td>1</td>\n",
       "      <td>493</td>\n",
       "      <td>1</td>\n",
       "    </tr>\n",
       "  </tbody>\n",
       "</table>\n",
       "</div>"
      ],
      "text/plain": [
       "                                                     news violence_label  \\\n",
       "count                                                 905            905   \n",
       "unique                                                905              2   \n",
       "top     regrettable that nonneutral person appointed o...    NO_VIOLENCE   \n",
       "freq                                                    1            493   \n",
       "\n",
       "                        src  \n",
       "count                   905  \n",
       "unique                  905  \n",
       "top     2019-03-14__Patiala  \n",
       "freq                      1  "
      ]
     },
     "execution_count": 1947,
     "metadata": {},
     "output_type": "execute_result"
    }
   ],
   "source": [
    "ds2.describe()"
   ]
  },
  {
   "cell_type": "code",
   "execution_count": 1948,
   "metadata": {},
   "outputs": [],
   "source": [
    "sentiment_scores = []\n",
    "for i in ds2['src']:\n",
    "#     sentiment_scores.append(int(get_sentiment_score(i) * 1000))\n",
    "    sentiment_scores.append(get_sentiment_score(i))\n",
    "\n",
    "ds3 = ds2.copy(deep=True)\n",
    "ds3['sentiment_score'] = sentiment_scores\n"
   ]
  },
  {
   "cell_type": "code",
   "execution_count": 1949,
   "metadata": {},
   "outputs": [
    {
     "data": {
      "text/html": [
       "<div>\n",
       "<style scoped>\n",
       "    .dataframe tbody tr th:only-of-type {\n",
       "        vertical-align: middle;\n",
       "    }\n",
       "\n",
       "    .dataframe tbody tr th {\n",
       "        vertical-align: top;\n",
       "    }\n",
       "\n",
       "    .dataframe thead th {\n",
       "        text-align: right;\n",
       "    }\n",
       "</style>\n",
       "<table border=\"1\" class=\"dataframe\">\n",
       "  <thead>\n",
       "    <tr style=\"text-align: right;\">\n",
       "      <th></th>\n",
       "      <th>news</th>\n",
       "      <th>violence_label</th>\n",
       "      <th>src</th>\n",
       "    </tr>\n",
       "  </thead>\n",
       "  <tbody>\n",
       "    <tr>\n",
       "      <th>count</th>\n",
       "      <td>905</td>\n",
       "      <td>905</td>\n",
       "      <td>905</td>\n",
       "    </tr>\n",
       "    <tr>\n",
       "      <th>unique</th>\n",
       "      <td>905</td>\n",
       "      <td>2</td>\n",
       "      <td>905</td>\n",
       "    </tr>\n",
       "    <tr>\n",
       "      <th>top</th>\n",
       "      <td>regrettable that nonneutral person appointed o...</td>\n",
       "      <td>NO_VIOLENCE</td>\n",
       "      <td>2019-03-14__Patiala</td>\n",
       "    </tr>\n",
       "    <tr>\n",
       "      <th>freq</th>\n",
       "      <td>1</td>\n",
       "      <td>493</td>\n",
       "      <td>1</td>\n",
       "    </tr>\n",
       "  </tbody>\n",
       "</table>\n",
       "</div>"
      ],
      "text/plain": [
       "                                                     news violence_label  \\\n",
       "count                                                 905            905   \n",
       "unique                                                905              2   \n",
       "top     regrettable that nonneutral person appointed o...    NO_VIOLENCE   \n",
       "freq                                                    1            493   \n",
       "\n",
       "                        src  \n",
       "count                   905  \n",
       "unique                  905  \n",
       "top     2019-03-14__Patiala  \n",
       "freq                      1  "
      ]
     },
     "execution_count": 1949,
     "metadata": {},
     "output_type": "execute_result"
    }
   ],
   "source": [
    "ds2.describe()"
   ]
  },
  {
   "cell_type": "code",
   "execution_count": 1950,
   "metadata": {},
   "outputs": [
    {
     "data": {
      "text/html": [
       "<div>\n",
       "<style scoped>\n",
       "    .dataframe tbody tr th:only-of-type {\n",
       "        vertical-align: middle;\n",
       "    }\n",
       "\n",
       "    .dataframe tbody tr th {\n",
       "        vertical-align: top;\n",
       "    }\n",
       "\n",
       "    .dataframe thead th {\n",
       "        text-align: right;\n",
       "    }\n",
       "</style>\n",
       "<table border=\"1\" class=\"dataframe\">\n",
       "  <thead>\n",
       "    <tr style=\"text-align: right;\">\n",
       "      <th></th>\n",
       "      <th>news</th>\n",
       "      <th>violence_label</th>\n",
       "      <th>src</th>\n",
       "      <th>sentiment_score</th>\n",
       "    </tr>\n",
       "  </thead>\n",
       "  <tbody>\n",
       "    <tr>\n",
       "      <th>count</th>\n",
       "      <td>905</td>\n",
       "      <td>905</td>\n",
       "      <td>905</td>\n",
       "      <td>905.000000</td>\n",
       "    </tr>\n",
       "    <tr>\n",
       "      <th>unique</th>\n",
       "      <td>905</td>\n",
       "      <td>2</td>\n",
       "      <td>905</td>\n",
       "      <td>NaN</td>\n",
       "    </tr>\n",
       "    <tr>\n",
       "      <th>top</th>\n",
       "      <td>regrettable that nonneutral person appointed o...</td>\n",
       "      <td>NO_VIOLENCE</td>\n",
       "      <td>2019-03-14__Patiala</td>\n",
       "      <td>NaN</td>\n",
       "    </tr>\n",
       "    <tr>\n",
       "      <th>freq</th>\n",
       "      <td>1</td>\n",
       "      <td>493</td>\n",
       "      <td>1</td>\n",
       "      <td>NaN</td>\n",
       "    </tr>\n",
       "    <tr>\n",
       "      <th>mean</th>\n",
       "      <td>NaN</td>\n",
       "      <td>NaN</td>\n",
       "      <td>NaN</td>\n",
       "      <td>0.577265</td>\n",
       "    </tr>\n",
       "    <tr>\n",
       "      <th>std</th>\n",
       "      <td>NaN</td>\n",
       "      <td>NaN</td>\n",
       "      <td>NaN</td>\n",
       "      <td>8.767309</td>\n",
       "    </tr>\n",
       "    <tr>\n",
       "      <th>min</th>\n",
       "      <td>NaN</td>\n",
       "      <td>NaN</td>\n",
       "      <td>NaN</td>\n",
       "      <td>-64.000002</td>\n",
       "    </tr>\n",
       "    <tr>\n",
       "      <th>25%</th>\n",
       "      <td>NaN</td>\n",
       "      <td>NaN</td>\n",
       "      <td>NaN</td>\n",
       "      <td>-3.666667</td>\n",
       "    </tr>\n",
       "    <tr>\n",
       "      <th>50%</th>\n",
       "      <td>NaN</td>\n",
       "      <td>NaN</td>\n",
       "      <td>NaN</td>\n",
       "      <td>0.000000</td>\n",
       "    </tr>\n",
       "    <tr>\n",
       "      <th>75%</th>\n",
       "      <td>NaN</td>\n",
       "      <td>NaN</td>\n",
       "      <td>NaN</td>\n",
       "      <td>3.916667</td>\n",
       "    </tr>\n",
       "    <tr>\n",
       "      <th>max</th>\n",
       "      <td>NaN</td>\n",
       "      <td>NaN</td>\n",
       "      <td>NaN</td>\n",
       "      <td>64.666665</td>\n",
       "    </tr>\n",
       "  </tbody>\n",
       "</table>\n",
       "</div>"
      ],
      "text/plain": [
       "                                                     news violence_label  \\\n",
       "count                                                 905            905   \n",
       "unique                                                905              2   \n",
       "top     regrettable that nonneutral person appointed o...    NO_VIOLENCE   \n",
       "freq                                                    1            493   \n",
       "mean                                                  NaN            NaN   \n",
       "std                                                   NaN            NaN   \n",
       "min                                                   NaN            NaN   \n",
       "25%                                                   NaN            NaN   \n",
       "50%                                                   NaN            NaN   \n",
       "75%                                                   NaN            NaN   \n",
       "max                                                   NaN            NaN   \n",
       "\n",
       "                        src  sentiment_score  \n",
       "count                   905       905.000000  \n",
       "unique                  905              NaN  \n",
       "top     2019-03-14__Patiala              NaN  \n",
       "freq                      1              NaN  \n",
       "mean                    NaN         0.577265  \n",
       "std                     NaN         8.767309  \n",
       "min                     NaN       -64.000002  \n",
       "25%                     NaN        -3.666667  \n",
       "50%                     NaN         0.000000  \n",
       "75%                     NaN         3.916667  \n",
       "max                     NaN        64.666665  "
      ]
     },
     "execution_count": 1950,
     "metadata": {},
     "output_type": "execute_result"
    }
   ],
   "source": [
    "ds3.describe(include='all')"
   ]
  },
  {
   "cell_type": "code",
   "execution_count": 1951,
   "metadata": {},
   "outputs": [],
   "source": [
    "# persists final dataset as Pickle file\n",
    "ds3.to_pickle(FINAL_DATASET_PATH)\n",
    "\n",
    "ds4 = ds3.copy(deep=True)"
   ]
  },
  {
   "cell_type": "code",
   "execution_count": 1954,
   "metadata": {},
   "outputs": [
    {
     "name": "stdout",
     "output_type": "stream",
     "text": [
      "       violence_label  sentiment_score\n",
      "count             905       905.000000\n",
      "unique              2              NaN\n",
      "top       NO_VIOLENCE              NaN\n",
      "freq              493              NaN\n",
      "mean              NaN         0.577265\n",
      "std               NaN         8.767309\n",
      "min               NaN       -64.000002\n",
      "25%               NaN        -3.666667\n",
      "50%               NaN         0.000000\n",
      "75%               NaN         3.916667\n",
      "max               NaN        64.666665\n"
     ]
    }
   ],
   "source": [
    "# ds4.drop(['src', 'news'], axis=1, inplace=True)\n",
    "print(ds4.describe(include='all'))\n",
    "ds4.to_csv(FINAL_DATASET_PATH + '_analytics.csv', sep=',', encoding='utf-8')"
   ]
  },
  {
   "cell_type": "markdown",
   "metadata": {},
   "source": [
    "## Final Dataframe"
   ]
  },
  {
   "cell_type": "code",
   "execution_count": 1877,
   "metadata": {},
   "outputs": [],
   "source": [
    "from sklearn_pandas import DataFrameMapper\n",
    "from sklearn.feature_extraction.text import TfidfVectorizer\n",
    "\n",
    "# y are the labels\n",
    "y = ds3.violence_label\n",
    "s = ds3.src\n",
    "\n",
    "mapper = DataFrameMapper([\n",
    "     ('news', TfidfVectorizer()),\n",
    "     ('sentiment_score', None)\n",
    " ])"
   ]
  },
  {
   "cell_type": "code",
   "execution_count": 1878,
   "metadata": {},
   "outputs": [],
   "source": [
    "X = mapper.fit_transform(ds3)"
   ]
  },
  {
   "cell_type": "markdown",
   "metadata": {},
   "source": [
    "### Split into training and test sets"
   ]
  },
  {
   "cell_type": "code",
   "execution_count": 1879,
   "metadata": {},
   "outputs": [],
   "source": [
    "from sklearn.model_selection import train_test_split\n",
    "\n",
    "# frac = 0.2\n",
    "# rowCount = len(X.index)\n",
    "# if (0.2*rowCount <= len(locations)):\n",
    "#     frac = 15.0/rowCount\n",
    "\n",
    "# frac is calculated above\n",
    "X_train, X_test, y_train, y_test = train_test_split(X, y, test_size=frac, shuffle = False)"
   ]
  },
  {
   "cell_type": "markdown",
   "metadata": {},
   "source": [
    "### RandomForest Classifier"
   ]
  },
  {
   "cell_type": "code",
   "execution_count": 1880,
   "metadata": {},
   "outputs": [
    {
     "name": "stdout",
     "output_type": "stream",
     "text": [
      "accuracy 0.5193370165745856\n",
      "              precision    recall  f1-score   support\n",
      "\n",
      " NO_VIOLENCE       0.60      0.91      0.72       102\n",
      "    VIOLENCE       0.65      0.22      0.32        79\n",
      "\n",
      "   micro avg       0.61      0.61      0.61       181\n",
      "   macro avg       0.63      0.56      0.52       181\n",
      "weighted avg       0.62      0.61      0.55       181\n",
      "\n"
     ]
    }
   ],
   "source": [
    "from sklearn.ensemble import RandomForestClassifier\n",
    "from sklearn.metrics import classification_report\n",
    "\n",
    "rfc = RandomForestClassifier(n_estimators=1000, random_state=0)\n",
    "rfc.fit(X_train, y_train)\n",
    " \n",
    "predicted = rfc.predict(X_test)\n",
    "print('accuracy %s' % accuracy_score(y_pred, y_test))\n",
    "print(classification_report(y_test, predicted))"
   ]
  },
  {
   "cell_type": "code",
   "execution_count": null,
   "metadata": {},
   "outputs": [],
   "source": []
  },
  {
   "cell_type": "markdown",
   "metadata": {},
   "source": [
    "### SGD Classifier"
   ]
  },
  {
   "cell_type": "code",
   "execution_count": 1881,
   "metadata": {},
   "outputs": [
    {
     "name": "stdout",
     "output_type": "stream",
     "text": [
      "SGD Classifier\n",
      "accuracy 0.569060773480663\n",
      "              precision    recall  f1-score   support\n",
      "\n",
      " NO_VIOLENCE       0.61      0.65      0.63       102\n",
      "    VIOLENCE       0.51      0.47      0.49        79\n",
      "\n",
      "   micro avg       0.57      0.57      0.57       181\n",
      "   macro avg       0.56      0.56      0.56       181\n",
      "weighted avg       0.57      0.57      0.57       181\n",
      "\n"
     ]
    }
   ],
   "source": [
    "from sklearn.linear_model import SGDClassifier\n",
    "\n",
    "sgd = SGDClassifier(loss='hinge', penalty='l2',alpha=1e-3, random_state=42, max_iter=5, tol=None)\n",
    "sgd.fit(X_train, y_train)\n",
    "\n",
    "y_pred = sgd.predict(X_test)\n",
    "\n",
    "print(\"SGD Classifier\")\n",
    "print('accuracy %s' % accuracy_score(y_pred, y_test))\n",
    "print(classification_report(y_test, y_pred))"
   ]
  },
  {
   "cell_type": "markdown",
   "metadata": {},
   "source": [
    "### Logistic Regression"
   ]
  },
  {
   "cell_type": "markdown",
   "metadata": {},
   "source": []
  },
  {
   "cell_type": "code",
   "execution_count": 1882,
   "metadata": {},
   "outputs": [
    {
     "name": "stdout",
     "output_type": "stream",
     "text": [
      "Logistic Regression\n",
      "accuracy 0.5303867403314917\n",
      "              precision    recall  f1-score   support\n",
      "\n",
      " NO_VIOLENCE       0.56      0.75      0.64       102\n",
      "    VIOLENCE       0.43      0.24      0.31        79\n",
      "\n",
      "   micro avg       0.53      0.53      0.53       181\n",
      "   macro avg       0.50      0.50      0.48       181\n",
      "weighted avg       0.51      0.53      0.50       181\n",
      "\n"
     ]
    },
    {
     "name": "stderr",
     "output_type": "stream",
     "text": [
      "/Users/zeko/anaconda3/lib/python3.6/site-packages/sklearn/linear_model/logistic.py:432: FutureWarning: Default solver will be changed to 'lbfgs' in 0.22. Specify a solver to silence this warning.\n",
      "  FutureWarning)\n"
     ]
    }
   ],
   "source": [
    "from sklearn.linear_model import LogisticRegression\n",
    "\n",
    "logreg = LogisticRegression(n_jobs=1, C=1e5)\n",
    "logreg.fit(X_train, y_train)\n",
    "\n",
    "\n",
    "y_pred = logreg.predict(X_test)\n",
    "\n",
    "print(\"Logistic Regression\")\n",
    "print('accuracy %s' % accuracy_score(y_pred, y_test))\n",
    "print(classification_report(y_test, y_pred))"
   ]
  },
  {
   "cell_type": "markdown",
   "metadata": {},
   "source": [
    "### Gaussian Naive bayes"
   ]
  },
  {
   "cell_type": "code",
   "execution_count": 1883,
   "metadata": {},
   "outputs": [
    {
     "name": "stdout",
     "output_type": "stream",
     "text": [
      "Gaussian NB\n",
      "accuracy 0.46408839779005523\n",
      "              precision    recall  f1-score   support\n",
      "\n",
      " NO_VIOLENCE       0.52      0.52      0.52       102\n",
      "    VIOLENCE       0.39      0.39      0.39        79\n",
      "\n",
      "   micro avg       0.46      0.46      0.46       181\n",
      "   macro avg       0.46      0.46      0.46       181\n",
      "weighted avg       0.46      0.46      0.46       181\n",
      "\n"
     ]
    }
   ],
   "source": [
    "from sklearn.naive_bayes import GaussianNB\n",
    "gnb = GaussianNB()\n",
    "gnb.fit(X_train, y_train)\n",
    "\n",
    "y_pred = gnb.predict(X_test)\n",
    "\n",
    "print(\"Gaussian NB\")\n",
    "print('accuracy %s' % accuracy_score(y_pred, y_test))\n",
    "print(classification_report(y_test, y_pred))"
   ]
  },
  {
   "cell_type": "markdown",
   "metadata": {},
   "source": [
    "### KNeighbors Classifier"
   ]
  },
  {
   "cell_type": "code",
   "execution_count": 1884,
   "metadata": {},
   "outputs": [
    {
     "name": "stdout",
     "output_type": "stream",
     "text": [
      "KNeighborsClassifier\n",
      "accuracy 0.5082872928176796\n",
      "              precision    recall  f1-score   support\n",
      "\n",
      " NO_VIOLENCE       0.58      0.45      0.51       102\n",
      "    VIOLENCE       0.45      0.58      0.51        79\n",
      "\n",
      "   micro avg       0.51      0.51      0.51       181\n",
      "   macro avg       0.52      0.52      0.51       181\n",
      "weighted avg       0.52      0.51      0.51       181\n",
      "\n"
     ]
    }
   ],
   "source": [
    "from sklearn.neighbors import KNeighborsClassifier\n",
    "kneigh = KNeighborsClassifier(n_neighbors=3)\n",
    "kneigh.fit(X_train, y_train) \n",
    "\n",
    "y_pred = kneigh.predict(X_test)\n",
    "\n",
    "print(\"KNeighborsClassifier\")\n",
    "print('accuracy %s' % accuracy_score(y_pred, y_test))\n",
    "print(classification_report(y_test, y_pred))"
   ]
  },
  {
   "cell_type": "markdown",
   "metadata": {},
   "source": [
    "# Voting Classifier - Ensemble of all the previous models\n",
    "### 'Wisdom of the Crowd'"
   ]
  },
  {
   "cell_type": "code",
   "execution_count": 1885,
   "metadata": {},
   "outputs": [
    {
     "name": "stderr",
     "output_type": "stream",
     "text": [
      "/Users/zeko/anaconda3/lib/python3.6/site-packages/sklearn/linear_model/logistic.py:432: FutureWarning: Default solver will be changed to 'lbfgs' in 0.22. Specify a solver to silence this warning.\n",
      "  FutureWarning)\n"
     ]
    },
    {
     "name": "stdout",
     "output_type": "stream",
     "text": [
      "Voting Classifier\n",
      "accuracy 0.5469613259668509\n",
      "              precision    recall  f1-score   support\n",
      "\n",
      " NO_VIOLENCE       0.57      0.76      0.66       102\n",
      "    VIOLENCE       0.47      0.27      0.34        79\n",
      "\n",
      "   micro avg       0.55      0.55      0.55       181\n",
      "   macro avg       0.52      0.52      0.50       181\n",
      "weighted avg       0.53      0.55      0.52       181\n",
      "\n"
     ]
    }
   ],
   "source": [
    "from sklearn.ensemble import VotingClassifier\n",
    "\n",
    "vc = VotingClassifier(estimators=[('rfc', rfc), ('logreg', logreg), \n",
    "                                  ('gnb', gnb), ('kneigh', kneigh), \n",
    "                                  ('sgd', sgd)], voting='hard')\n",
    "vc.fit(X_train, y_train)\n",
    "y_pred = vc.predict(X_test)\n",
    "\n",
    "print(\"Voting Classifier\")\n",
    "print('accuracy %s' % accuracy_score(y_pred, y_test))\n",
    "print(classification_report(y_test, y_pred))"
   ]
  },
  {
   "cell_type": "code",
   "execution_count": 1897,
   "metadata": {},
   "outputs": [
    {
     "data": {
      "text/plain": [
       "array(['NO_VIOLENCE', 'NO_VIOLENCE', 'NO_VIOLENCE', 'NO_VIOLENCE',\n",
       "       'NO_VIOLENCE', 'NO_VIOLENCE', 'NO_VIOLENCE', 'NO_VIOLENCE',\n",
       "       'VIOLENCE', 'VIOLENCE', 'NO_VIOLENCE', 'NO_VIOLENCE',\n",
       "       'NO_VIOLENCE', 'NO_VIOLENCE', 'VIOLENCE', 'NO_VIOLENCE',\n",
       "       'NO_VIOLENCE', 'VIOLENCE', 'NO_VIOLENCE', 'NO_VIOLENCE',\n",
       "       'NO_VIOLENCE', 'NO_VIOLENCE', 'NO_VIOLENCE', 'VIOLENCE',\n",
       "       'VIOLENCE', 'VIOLENCE', 'VIOLENCE', 'NO_VIOLENCE', 'NO_VIOLENCE',\n",
       "       'VIOLENCE', 'NO_VIOLENCE', 'NO_VIOLENCE', 'NO_VIOLENCE',\n",
       "       'VIOLENCE', 'NO_VIOLENCE', 'NO_VIOLENCE', 'NO_VIOLENCE',\n",
       "       'VIOLENCE', 'NO_VIOLENCE', 'NO_VIOLENCE', 'VIOLENCE',\n",
       "       'NO_VIOLENCE', 'VIOLENCE', 'NO_VIOLENCE', 'VIOLENCE',\n",
       "       'NO_VIOLENCE', 'NO_VIOLENCE', 'NO_VIOLENCE', 'NO_VIOLENCE',\n",
       "       'NO_VIOLENCE', 'NO_VIOLENCE', 'NO_VIOLENCE', 'NO_VIOLENCE',\n",
       "       'NO_VIOLENCE', 'NO_VIOLENCE', 'NO_VIOLENCE', 'VIOLENCE',\n",
       "       'NO_VIOLENCE', 'NO_VIOLENCE', 'NO_VIOLENCE', 'NO_VIOLENCE',\n",
       "       'NO_VIOLENCE', 'NO_VIOLENCE', 'NO_VIOLENCE', 'NO_VIOLENCE',\n",
       "       'NO_VIOLENCE', 'NO_VIOLENCE', 'NO_VIOLENCE', 'NO_VIOLENCE',\n",
       "       'NO_VIOLENCE', 'NO_VIOLENCE', 'NO_VIOLENCE', 'NO_VIOLENCE',\n",
       "       'NO_VIOLENCE', 'NO_VIOLENCE', 'NO_VIOLENCE', 'NO_VIOLENCE',\n",
       "       'NO_VIOLENCE', 'VIOLENCE', 'VIOLENCE', 'NO_VIOLENCE',\n",
       "       'NO_VIOLENCE', 'NO_VIOLENCE', 'NO_VIOLENCE', 'VIOLENCE',\n",
       "       'NO_VIOLENCE', 'VIOLENCE', 'NO_VIOLENCE', 'NO_VIOLENCE',\n",
       "       'VIOLENCE', 'NO_VIOLENCE', 'NO_VIOLENCE', 'NO_VIOLENCE',\n",
       "       'NO_VIOLENCE', 'NO_VIOLENCE', 'VIOLENCE', 'NO_VIOLENCE',\n",
       "       'NO_VIOLENCE', 'NO_VIOLENCE', 'NO_VIOLENCE', 'VIOLENCE',\n",
       "       'VIOLENCE', 'NO_VIOLENCE', 'NO_VIOLENCE', 'VIOLENCE',\n",
       "       'NO_VIOLENCE', 'NO_VIOLENCE', 'NO_VIOLENCE', 'VIOLENCE',\n",
       "       'VIOLENCE', 'VIOLENCE', 'VIOLENCE', 'VIOLENCE', 'NO_VIOLENCE',\n",
       "       'NO_VIOLENCE', 'NO_VIOLENCE', 'NO_VIOLENCE', 'NO_VIOLENCE',\n",
       "       'NO_VIOLENCE', 'NO_VIOLENCE', 'NO_VIOLENCE', 'NO_VIOLENCE',\n",
       "       'NO_VIOLENCE', 'NO_VIOLENCE', 'NO_VIOLENCE', 'VIOLENCE',\n",
       "       'NO_VIOLENCE', 'NO_VIOLENCE', 'NO_VIOLENCE', 'VIOLENCE',\n",
       "       'NO_VIOLENCE', 'NO_VIOLENCE', 'NO_VIOLENCE', 'NO_VIOLENCE',\n",
       "       'NO_VIOLENCE', 'NO_VIOLENCE', 'NO_VIOLENCE', 'NO_VIOLENCE',\n",
       "       'VIOLENCE', 'NO_VIOLENCE', 'VIOLENCE', 'NO_VIOLENCE', 'VIOLENCE',\n",
       "       'NO_VIOLENCE', 'NO_VIOLENCE', 'NO_VIOLENCE', 'NO_VIOLENCE',\n",
       "       'NO_VIOLENCE', 'NO_VIOLENCE', 'NO_VIOLENCE', 'NO_VIOLENCE',\n",
       "       'NO_VIOLENCE', 'NO_VIOLENCE', 'VIOLENCE', 'VIOLENCE', 'VIOLENCE',\n",
       "       'NO_VIOLENCE', 'NO_VIOLENCE', 'NO_VIOLENCE', 'NO_VIOLENCE',\n",
       "       'NO_VIOLENCE', 'NO_VIOLENCE', 'NO_VIOLENCE', 'VIOLENCE',\n",
       "       'NO_VIOLENCE', 'NO_VIOLENCE', 'NO_VIOLENCE', 'VIOLENCE',\n",
       "       'VIOLENCE', 'NO_VIOLENCE', 'VIOLENCE', 'VIOLENCE', 'VIOLENCE',\n",
       "       'NO_VIOLENCE', 'NO_VIOLENCE', 'NO_VIOLENCE', 'NO_VIOLENCE',\n",
       "       'NO_VIOLENCE', 'NO_VIOLENCE', 'VIOLENCE', 'VIOLENCE'], dtype=object)"
      ]
     },
     "execution_count": 1897,
     "metadata": {},
     "output_type": "execute_result"
    }
   ],
   "source": [
    "y_pred"
   ]
  },
  {
   "cell_type": "markdown",
   "metadata": {},
   "source": [
    "## Store ensemble model on disk"
   ]
  },
  {
   "cell_type": "code",
   "execution_count": 1886,
   "metadata": {},
   "outputs": [],
   "source": [
    "import pickle\n",
    "\n",
    "with open(FINAL_MODEL_PATH, 'wb') as f:  \n",
    "    pickle.dump(vc, f)"
   ]
  },
  {
   "cell_type": "code",
   "execution_count": null,
   "metadata": {},
   "outputs": [],
   "source": []
  },
  {
   "cell_type": "code",
   "execution_count": 1899,
   "metadata": {},
   "outputs": [
    {
     "name": "stdout",
     "output_type": "stream",
     "text": [
      "                        src            0\n",
      "count                   905          181\n",
      "unique                  905            2\n",
      "top     2019-03-14__Patiala  NO_VIOLENCE\n",
      "freq                      1          136\n"
     ]
    }
   ],
   "source": [
    "res = pd.concat([s, pd.Series(y_pred)], axis=1)\n",
    "print(res.describe())"
   ]
  },
  {
   "cell_type": "markdown",
   "metadata": {},
   "source": [
    "## Store live predictions on disk"
   ]
  },
  {
   "cell_type": "code",
   "execution_count": 1906,
   "metadata": {},
   "outputs": [],
   "source": [
    "def get_location_object(loc_name):\n",
    "    for i in locations:\n",
    "        if i['name'] == loc_name:\n",
    "            return i"
   ]
  },
  {
   "cell_type": "code",
   "execution_count": 1916,
   "metadata": {},
   "outputs": [
    {
     "name": "stdout",
     "output_type": "stream",
     "text": [
      "src list length: 181\n",
      "pred list length: 181\n",
      "\n"
     ]
    }
   ],
   "source": [
    "src_list = s.tolist()[-1*len(pred_list):]\n",
    "pred_list = y_pred.tolist()\n",
    "\n",
    "live_date = datetime.datetime.now().date()\n",
    "\n",
    "result = []\n",
    "\n",
    "print('src list length: {}'.format(len(src_list)))\n",
    "print('pred list length: {}'.format(len(pred_list)))\n",
    "print()\n",
    "\n",
    "for i, entry in enumerate(src_list):\n",
    "    if entry.startswith('{}'.format(live_date)):\n",
    "        x = entry.split('__')\n",
    "        loc_obj = get_location_object(x[1])\n",
    "        result.append({\n",
    "            'location': {\n",
    "                'name': loc_obj['name'],\n",
    "                'lat': loc_obj['lat'],\n",
    "                'long': loc_obj['long'],\n",
    "            },\n",
    "            'prediction': pred_list[i]\n",
    "        })\n",
    "\n",
    "\n",
    "with open(LIVE_PREDICTIONS_PATH, 'w') as f:  \n",
    "    json.dump(result, f)"
   ]
  },
  {
   "cell_type": "code",
   "execution_count": null,
   "metadata": {},
   "outputs": [],
   "source": []
  }
 ],
 "metadata": {
  "kernelspec": {
   "display_name": "Python 3",
   "language": "python",
   "name": "python3"
  },
  "language_info": {
   "codemirror_mode": {
    "name": "ipython",
    "version": 3
   },
   "file_extension": ".py",
   "mimetype": "text/x-python",
   "name": "python",
   "nbconvert_exporter": "python",
   "pygments_lexer": "ipython3",
   "version": "3.7.1"
  }
 },
 "nbformat": 4,
 "nbformat_minor": 1
}
